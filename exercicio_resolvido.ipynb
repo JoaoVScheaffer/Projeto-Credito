{
  "nbformat": 4,
  "nbformat_minor": 0,
  "metadata": {
    "colab": {
      "name": "modulo_2_exercicios.ipynb",
      "provenance": [],
      "collapsed_sections": [],
      "toc_visible": true
    },
    "kernelspec": {
      "name": "python3",
      "display_name": "Python 3"
    }
  },
  "cells": [
    {
      "cell_type": "markdown",
      "metadata": {
        "id": "KJqp9AANOCtf"
      },
      "source": [
        "<img src=\"https://raw.githubusercontent.com/andre-marcos-perez/ebac-course-utils/main/media/logo/newebac_logo_black_half.png\" alt=\"ebac-logo\">\n",
        "\n",
        "---\n",
        "\n",
        "# **Módulo 02** | Python: Estruturas de Dados\n",
        "Caderno de **Exercícios**<br> \n",
        "Professor [André Perez](https://www.linkedin.com/in/andremarcosperez/)\n",
        "\n",
        "---"
      ]
    },
    {
      "cell_type": "markdown",
      "metadata": {
        "id": "d9jDtUbDOE1-"
      },
      "source": [
        "# **Tópicos**\n",
        "\n",
        "<ol type=\"1\">\n",
        "  <li>Listas;</li>\n",
        "  <li>Conjuntos;</li>\n",
        "  <li>Dicionários.</li>\n",
        "</ol>"
      ]
    },
    {
      "cell_type": "markdown",
      "metadata": {
        "id": "SmoHgt-lwkpD"
      },
      "source": [
        "---"
      ]
    },
    {
      "cell_type": "markdown",
      "metadata": {
        "id": "GABI6OW8OfQ2"
      },
      "source": [
        "# **Exercícios**"
      ]
    },
    {
      "cell_type": "markdown",
      "metadata": {
        "id": "muD1vxozykSC"
      },
      "source": [
        "## 1\\. Listas"
      ]
    },
    {
      "cell_type": "markdown",
      "metadata": {
        "id": "ahrFfCuBxJKs"
      },
      "source": [
        "Criei uma lista chamada `filmes` com o nome dos 10 primeiros filmes mais bem avaliados no site no [IMDB](https://www.imdb.com/chart/top/). Imprima o resultado."
      ]
    },
    {
      "cell_type": "code",
      "metadata": {
        "id": "OgL6Hv3bzOHI",
        "colab": {
          "base_uri": "https://localhost:8080/"
        },
        "outputId": "9bbd03e1-f1f9-440d-8404-1c2d1f4f38fe"
      },
      "source": [
        "filmes = ['Um sonho de liberdade', 'O Poderoso Chefao', 'Batman', 'O Poderoso ChefaoII', 'Homens e uma sentenca', 'A lista de Schindler', 'O senhor dos Aneis', 'Pupl Fiction', 'O senhor dos aneis a sociedade do anel', 'Tres homens em conflito']\n",
        "\n",
        "print(filmes)\n",
        "print(type(filmes))"
      ],
      "execution_count": 3,
      "outputs": [
        {
          "output_type": "stream",
          "name": "stdout",
          "text": [
            "['Um sonho de liberdade', 'O Poderoso Chefao', 'Batman', 'O Poderoso ChefaoII', 'Homens e uma sentenca', 'A lista de Schindler', 'O senhor dos Aneis', 'Pupl Fiction', 'O senhor dos aneis a sociedade do anel', 'Tres homens em conflito']\n",
            "<class 'list'>\n"
          ]
        }
      ]
    },
    {
      "cell_type": "markdown",
      "metadata": {
        "id": "KI9zQRT2xa7m"
      },
      "source": [
        "Simule a movimentação do *ranking*. Utilize os métodos `insert` e `pop` para trocar a posição do primeiro e do segundo filme da lista. Imprima o resultado.\n",
        "\n"
      ]
    },
    {
      "cell_type": "code",
      "metadata": {
        "id": "zX3mA3_GzrXH",
        "colab": {
          "base_uri": "https://localhost:8080/"
        },
        "outputId": "c661544d-4231-4717-ea68-d275c0fadbee"
      },
      "source": [
        "filmes.insert(0,'O Poderoso Chefao')\n",
        "print(filmes)"
      ],
      "execution_count": 4,
      "outputs": [
        {
          "output_type": "stream",
          "name": "stdout",
          "text": [
            "['O Poderoso Chefao', 'Um sonho de liberdade', 'O Poderoso Chefao', 'Batman', 'O Poderoso ChefaoII', 'Homens e uma sentenca', 'A lista de Schindler', 'O senhor dos Aneis', 'Pupl Fiction', 'O senhor dos aneis a sociedade do anel', 'Tres homens em conflito']\n"
          ]
        }
      ]
    },
    {
      "cell_type": "code",
      "source": [
        "segundo_filme = filmes.pop(0)\n",
        "print(segundo_filme)"
      ],
      "metadata": {
        "colab": {
          "base_uri": "https://localhost:8080/"
        },
        "id": "XxVFMSaRBZ4r",
        "outputId": "4a9deeac-51b8-44a6-b167-0b912c329328"
      },
      "execution_count": 6,
      "outputs": [
        {
          "output_type": "stream",
          "name": "stdout",
          "text": [
            "O Poderoso Chefao\n"
          ]
        }
      ]
    },
    {
      "cell_type": "code",
      "source": [
        "print(filmes)"
      ],
      "metadata": {
        "colab": {
          "base_uri": "https://localhost:8080/"
        },
        "id": "yGjgDPTVB21R",
        "outputId": "075cdeab-5014-4316-f731-5c01d979d9ad"
      },
      "execution_count": 7,
      "outputs": [
        {
          "output_type": "stream",
          "name": "stdout",
          "text": [
            "['Um sonho de liberdade', 'O Poderoso Chefao', 'Batman', 'O Poderoso ChefaoII', 'Homens e uma sentenca', 'A lista de Schindler', 'O senhor dos Aneis', 'Pupl Fiction', 'O senhor dos aneis a sociedade do anel', 'Tres homens em conflito']\n"
          ]
        }
      ]
    },
    {
      "cell_type": "markdown",
      "metadata": {
        "id": "zMN1Q3jdwoJm"
      },
      "source": [
        "---"
      ]
    },
    {
      "cell_type": "markdown",
      "metadata": {
        "id": "lxa5L6uF0ZJE"
      },
      "source": [
        "## 2\\. Conjuntos"
      ]
    },
    {
      "cell_type": "markdown",
      "metadata": {
        "id": "9JahS2Kj0d5u"
      },
      "source": [
        "Aconteceu um erro no seu *ranking*. Simule a duplicação dos três últimos filmes da lista. Imprima o resultado."
      ]
    },
    {
      "cell_type": "code",
      "source": [
        "primeiro_filme = ['Um sonho de liberdade']\n",
        "segundo_filme = ['O poderoso chefao']\n",
        "terceiro_filme = ['O poderoso chefao II']\n",
        "quarto_filme = ['Batman: o cavaleiro das trevas']\n",
        "quinto_filme = ['21 homens e uma sentença','Pulp Fiction']\n",
        "sexto_filme = ['A lista de Schindler', 'Tres homens em conflito']\n",
        "setimo_filme = ['O senhor dos aneis', 'O senhor dos aneis II']\n",
        "oitavo_filme = ['Pulp Fiction']\n",
        "nono_filme = ['Tres homens em conflito']\n",
        "decimo_filme = ['O senhor dos aneis II']"
      ],
      "metadata": {
        "id": "Cn0Db99HmU9Y"
      },
      "execution_count": 13,
      "outputs": []
    },
    {
      "cell_type": "code",
      "source": [
        "ranking_filmes = primeiro_filme + segundo_filme + terceiro_filme + quarto_filme + quinto_filme + sexto_filme + setimo_filme + oitavo_filme + nono_filme + decimo_filme\n",
        "print(ranking_filmes)"
      ],
      "metadata": {
        "colab": {
          "base_uri": "https://localhost:8080/"
        },
        "id": "pkTf6zfjpC_j",
        "outputId": "c43fc565-f6c8-4db9-838a-d55f197b4e49"
      },
      "execution_count": 14,
      "outputs": [
        {
          "output_type": "stream",
          "name": "stdout",
          "text": [
            "['Um sonho de liberdade', 'O poderoso chefao', 'O poderoso chefao II', 'Batman: o cavaleiro das trevas', '21 homens e uma sentença', 'Pulp Fiction', 'A lista de Schindler', 'Tres homens em conflito', 'O senhor dos aneis', 'O senhor dos aneis II', 'Pulp Fiction', 'Tres homens em conflito', 'O senhor dos aneis II']\n"
          ]
        }
      ]
    },
    {
      "cell_type": "markdown",
      "metadata": {
        "id": "suxTfCJB6ZiX"
      },
      "source": [
        "Utiliza a conversão `set` e `list` para remover os valores duplicados. Imprima o resultado. "
      ]
    },
    {
      "cell_type": "code",
      "metadata": {
        "id": "ZvUGN-0n6joM",
        "colab": {
          "base_uri": "https://localhost:8080/"
        },
        "outputId": "479c9058-1713-4a83-e1b4-8dd4f21ddaf3"
      },
      "source": [
        "#Usando set e list.\n",
        "ranking_filmes = list(set(primeiro_filme + segundo_filme + terceiro_filme + quarto_filme + quinto_filme + sexto_filme + setimo_filme + oitavo_filme + nono_filme + decimo_filme))\n",
        "print(ranking_filmes)\n",
        "print(len(ranking_filmes))"
      ],
      "execution_count": 21,
      "outputs": [
        {
          "output_type": "stream",
          "name": "stdout",
          "text": [
            "['O senhor dos aneis', '21 homens e uma sentença', 'Um sonho de liberdade', 'Pulp Fiction', 'A lista de Schindler', 'Tres homens em conflito', 'Batman: o cavaleiro das trevas', 'O senhor dos aneis II', 'O poderoso chefao', 'O poderoso chefao II']\n",
            "10\n"
          ]
        }
      ]
    },
    {
      "cell_type": "markdown",
      "metadata": {
        "id": "ShkK35eQ6pAM"
      },
      "source": [
        "---"
      ]
    },
    {
      "cell_type": "markdown",
      "metadata": {
        "id": "EL_FzmxL6rTv"
      },
      "source": [
        "## 3\\. Dicionários"
      ]
    },
    {
      "cell_type": "markdown",
      "metadata": {
        "id": "i8l0gFqRCpfT"
      },
      "source": [
        "Repita os exercícios da parte 1 (listas). Os elementos da lista `filmes` devem ser dicionários no seguinte formato: `{'nome': <nome-do-filme>, 'ano': <ano do filme>}, 'sinopse': <sinopse do filme>}`. "
      ]
    },
    {
      "cell_type": "code",
      "source": [
        "filmes = []\n",
        "filmes.append({'nome': 'Um sonho de liberdade', 'ano': '1994', 'sinopse': 'dois homens presos'})\n",
        "filmes.append({'nome': 'O poderoso chefao', 'ano': '1972', 'sinopse': 'um mafioso passa o cargo para seu filho'})\n",
        "filmes.append({'nome': 'Batman', 'ano': '2008', 'sinopse': 'um super-heroi que possui um inimigo chamado coringa'})\n",
        "filmes.append({'nome': 'O poderoso chefao II', 'ano': '1974', 'sinopse': 'o filho tenta alavancar o impero mafioso'})\n",
        "filmes.append({'nome': 'homens e uma sentenca', 'ano': '1957', 'sinopse': 'um jurado que se aposenta'})\n",
        "filmes.append({'nome': 'A lista de Schindler', 'ano': '1993', 'sinopse': 'feito na segunda guerra mundial'})\n",
        "filmes.append({'nome': 'O senhor dos aneis Retorno do rei', 'ano': '2003', 'sinopse': 'o Mundo dos Homens contra o exército de Sauron'})\n",
        "filmes.append({'nome': 'Pulp Fiction', 'ano': '1994', 'sinopse': 'a vida de dois mafiosos'})\n",
        "filmes.append({'nome': 'O senhor dos aneis a sociedade do anel', 'ano': '2001', 'sinopse': 'destruir o anel'})\n",
        "filmes.append({'nome': 'Tres homens em conflito', 'ano': '1966', 'sinopse': 'um impostor e dois homens'})\n",
        "\n",
        "\n",
        "print(filmes)"
      ],
      "metadata": {
        "colab": {
          "base_uri": "https://localhost:8080/"
        },
        "id": "keJP6uNs3CY0",
        "outputId": "df20208f-9893-4835-a93d-c4c44421ae4f"
      },
      "execution_count": 31,
      "outputs": [
        {
          "output_type": "stream",
          "name": "stdout",
          "text": [
            "[{'nome': 'Um sonho de liberdade', 'ano': '1994', 'sinopse': 'dois homens presos'}, {'nome': 'O poderoso chefao', 'ano': '1972', 'sinopse': 'um mafioso passa o cargo para seu filho'}, {'nome': 'Batman', 'ano': '2008', 'sinopse': 'um super-heroi que possui um inimigo chamado coringa'}, {'nome': 'O poderoso chefao II', 'ano': '1974', 'sinopse': 'o filho tenta alavancar o impero mafioso'}, {'nome': 'homens e uma sentenca', 'ano': '1957', 'sinopse': 'um jurado que se aposenta'}, {'nome': 'A lista de Schindler', 'ano': '1993', 'sinopse': 'feito na segunda guerra mundial'}, {'nome': 'O senhor dos aneis Retorno do rei', 'ano': '2003', 'sinopse': 'o Mundo dos Homens contra o exército de Sauron'}, {'nome': 'Pulp Fiction', 'ano': '1994', 'sinopse': 'a vida de dois mafiosos'}, {'nome': 'O senhor dos aneis a sociedade do anel', 'ano': '2001', 'sinopse': 'destruir o anel'}, {'nome': 'Tres homens em conflito', 'ano': '1966', 'sinopse': 'um impostor e dois homens'}]\n"
          ]
        }
      ]
    }
  ]
}