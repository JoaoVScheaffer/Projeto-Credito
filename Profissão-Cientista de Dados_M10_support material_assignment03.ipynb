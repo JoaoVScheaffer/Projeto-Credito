{
 "cells": [
  {
   "cell_type": "markdown",
   "metadata": {},
   "source": [
    "# Módulo 10 tarefa 03\n",
    "Considere a mesma base de dados utilizada na tarefa 1 ```previsao_de_renda.csv```."
   ]
  },
  {
   "cell_type": "code",
   "execution_count": 1,
   "metadata": {},
   "outputs": [],
   "source": [
    "import pandas as pd\n",
    "import numpy as np\n",
    "import seaborn as sns\n",
    "import matplotlib.pyplot as plt\n",
    "\n",
    "%matplotlib inline"
   ]
  },
  {
   "cell_type": "code",
   "execution_count": 4,
   "metadata": {},
   "outputs": [
    {
     "data": {
      "text/html": [
       "<div>\n",
       "<style scoped>\n",
       "    .dataframe tbody tr th:only-of-type {\n",
       "        vertical-align: middle;\n",
       "    }\n",
       "\n",
       "    .dataframe tbody tr th {\n",
       "        vertical-align: top;\n",
       "    }\n",
       "\n",
       "    .dataframe thead th {\n",
       "        text-align: right;\n",
       "    }\n",
       "</style>\n",
       "<table border=\"1\" class=\"dataframe\">\n",
       "  <thead>\n",
       "    <tr style=\"text-align: right;\">\n",
       "      <th></th>\n",
       "      <th>Unnamed: 0</th>\n",
       "      <th>data_ref</th>\n",
       "      <th>index</th>\n",
       "      <th>sexo</th>\n",
       "      <th>posse_de_veiculo</th>\n",
       "      <th>posse_de_imovel</th>\n",
       "      <th>qtd_filhos</th>\n",
       "      <th>tipo_renda</th>\n",
       "      <th>educacao</th>\n",
       "      <th>estado_civil</th>\n",
       "      <th>tipo_residencia</th>\n",
       "      <th>idade</th>\n",
       "      <th>tempo_emprego</th>\n",
       "      <th>qt_pessoas_residencia</th>\n",
       "      <th>mau</th>\n",
       "      <th>renda</th>\n",
       "    </tr>\n",
       "  </thead>\n",
       "  <tbody>\n",
       "    <tr>\n",
       "      <th>0</th>\n",
       "      <td>0</td>\n",
       "      <td>2015-01-01</td>\n",
       "      <td>8682</td>\n",
       "      <td>F</td>\n",
       "      <td>False</td>\n",
       "      <td>True</td>\n",
       "      <td>1</td>\n",
       "      <td>Assalariado</td>\n",
       "      <td>Secundário</td>\n",
       "      <td>Casado</td>\n",
       "      <td>Casa</td>\n",
       "      <td>36</td>\n",
       "      <td>3.575342</td>\n",
       "      <td>3.0</td>\n",
       "      <td>False</td>\n",
       "      <td>3369.24</td>\n",
       "    </tr>\n",
       "    <tr>\n",
       "      <th>1</th>\n",
       "      <td>1</td>\n",
       "      <td>2015-01-01</td>\n",
       "      <td>12830</td>\n",
       "      <td>M</td>\n",
       "      <td>True</td>\n",
       "      <td>True</td>\n",
       "      <td>0</td>\n",
       "      <td>Empresário</td>\n",
       "      <td>Secundário</td>\n",
       "      <td>Casado</td>\n",
       "      <td>Casa</td>\n",
       "      <td>42</td>\n",
       "      <td>0.860274</td>\n",
       "      <td>2.0</td>\n",
       "      <td>False</td>\n",
       "      <td>6096.14</td>\n",
       "    </tr>\n",
       "    <tr>\n",
       "      <th>2</th>\n",
       "      <td>2</td>\n",
       "      <td>2015-01-01</td>\n",
       "      <td>2885</td>\n",
       "      <td>M</td>\n",
       "      <td>True</td>\n",
       "      <td>True</td>\n",
       "      <td>2</td>\n",
       "      <td>Assalariado</td>\n",
       "      <td>Superior completo</td>\n",
       "      <td>Casado</td>\n",
       "      <td>Casa</td>\n",
       "      <td>31</td>\n",
       "      <td>8.065753</td>\n",
       "      <td>4.0</td>\n",
       "      <td>False</td>\n",
       "      <td>5658.98</td>\n",
       "    </tr>\n",
       "    <tr>\n",
       "      <th>3</th>\n",
       "      <td>3</td>\n",
       "      <td>2015-01-01</td>\n",
       "      <td>16168</td>\n",
       "      <td>F</td>\n",
       "      <td>True</td>\n",
       "      <td>False</td>\n",
       "      <td>0</td>\n",
       "      <td>Empresário</td>\n",
       "      <td>Secundário</td>\n",
       "      <td>Casado</td>\n",
       "      <td>Casa</td>\n",
       "      <td>50</td>\n",
       "      <td>1.208219</td>\n",
       "      <td>2.0</td>\n",
       "      <td>False</td>\n",
       "      <td>7246.69</td>\n",
       "    </tr>\n",
       "    <tr>\n",
       "      <th>4</th>\n",
       "      <td>4</td>\n",
       "      <td>2015-01-01</td>\n",
       "      <td>12438</td>\n",
       "      <td>M</td>\n",
       "      <td>False</td>\n",
       "      <td>False</td>\n",
       "      <td>0</td>\n",
       "      <td>Assalariado</td>\n",
       "      <td>Secundário</td>\n",
       "      <td>Casado</td>\n",
       "      <td>Casa</td>\n",
       "      <td>52</td>\n",
       "      <td>13.873973</td>\n",
       "      <td>2.0</td>\n",
       "      <td>False</td>\n",
       "      <td>4017.37</td>\n",
       "    </tr>\n",
       "  </tbody>\n",
       "</table>\n",
       "</div>"
      ],
      "text/plain": [
       "   Unnamed: 0    data_ref  index sexo  posse_de_veiculo  posse_de_imovel  \\\n",
       "0           0  2015-01-01   8682    F             False             True   \n",
       "1           1  2015-01-01  12830    M              True             True   \n",
       "2           2  2015-01-01   2885    M              True             True   \n",
       "3           3  2015-01-01  16168    F              True            False   \n",
       "4           4  2015-01-01  12438    M             False            False   \n",
       "\n",
       "   qtd_filhos   tipo_renda           educacao estado_civil tipo_residencia  \\\n",
       "0           1  Assalariado         Secundário       Casado            Casa   \n",
       "1           0   Empresário         Secundário       Casado            Casa   \n",
       "2           2  Assalariado  Superior completo       Casado            Casa   \n",
       "3           0   Empresário         Secundário       Casado            Casa   \n",
       "4           0  Assalariado         Secundário       Casado            Casa   \n",
       "\n",
       "   idade  tempo_emprego  qt_pessoas_residencia    mau    renda  \n",
       "0     36       3.575342                    3.0  False  3369.24  \n",
       "1     42       0.860274                    2.0  False  6096.14  \n",
       "2     31       8.065753                    4.0  False  5658.98  \n",
       "3     50       1.208219                    2.0  False  7246.69  \n",
       "4     52      13.873973                    2.0  False  4017.37  "
      ]
     },
     "execution_count": 4,
     "metadata": {},
     "output_type": "execute_result"
    }
   ],
   "source": [
    "df = pd.read_csv('previsao_da_renda.csv')\n",
    "df.head()"
   ]
  },
  {
   "cell_type": "code",
   "execution_count": 5,
   "metadata": {},
   "outputs": [
    {
     "data": {
      "text/plain": [
       "Unnamed: 0                        int64\n",
       "data_ref                 datetime64[ns]\n",
       "index                             int64\n",
       "sexo                             object\n",
       "posse_de_veiculo                   bool\n",
       "posse_de_imovel                    bool\n",
       "qtd_filhos                        int64\n",
       "tipo_renda                       object\n",
       "educacao                         object\n",
       "estado_civil                     object\n",
       "tipo_residencia                  object\n",
       "idade                             int64\n",
       "tempo_emprego                   float64\n",
       "qt_pessoas_residencia           float64\n",
       "mau                                bool\n",
       "renda                           float64\n",
       "dtype: object"
      ]
     },
     "execution_count": 5,
     "metadata": {},
     "output_type": "execute_result"
    }
   ],
   "source": [
    "df['data_ref'] = pd.to_datetime(df['data_ref'])\n",
    "df.dtypes"
   ]
  },
  {
   "cell_type": "markdown",
   "metadata": {},
   "source": [
    "1) Construa um gráfico de barras para avaliar a distribuição das variáveis qualitativas no tempo. Você acha que houve alguma alteração importante a ser investigada?"
   ]
  },
  {
   "cell_type": "code",
   "execution_count": 7,
   "metadata": {},
   "outputs": [
    {
     "data": {
      "text/plain": [
       "<matplotlib.legend.Legend at 0x29e9387a490>"
      ]
     },
     "execution_count": 7,
     "metadata": {},
     "output_type": "execute_result"
    },
    {
     "data": {
      "image/png": "[encoded data removed]",
      "text/plain": [
       "<Figure size 432x288 with 1 Axes>"
      ]
     },
     "metadata": {
      "needs_background": "light"
     },
     "output_type": "display_data"
    }
   ],
   "source": [
    "ax = sns.countplot(\n",
    "    data=df,\n",
    "    x='data_ref',\n",
    "    hue='educacao'\n",
    ")\n",
    "\n",
    "tick_labs = df['data_ref'].map(lambda ts: ts.strftime(\"%m-%Y\")).unique()\n",
    "\n",
    "ticks = ax.set_xticks(list(range(df['data_ref'].nunique())))\n",
    "labels = ax.set_xticklabels(tick_labs, rotation=90)\n",
    "plt.legend(bbox_to_anchor=(1.05, 1), loc=2, borderaxespad=0.)"
   ]
  },
  {
   "cell_type": "markdown",
   "metadata": {},
   "source": [
    "2) Para cada variável qualitativa, construa um gráfico mostrando as médias de cada nível da variável no tempo e avalie a estabilidade. Houve alguma alteração importante? Você acha que se pode utilizar essas variáveis em uma modelagem?"
   ]
  },
  {
   "cell_type": "code",
   "execution_count": 8,
   "metadata": {},
   "outputs": [
    {
     "data": {
      "text/plain": [
       "<matplotlib.legend.Legend at 0x29e936ab760>"
      ]
     },
     "execution_count": 8,
     "metadata": {},
     "output_type": "execute_result"
    },
    {
     "data": {
      "image/png": "[encoded data removed]",
      "text/plain": [
       "<Figure size 432x288 with 1 Axes>"
      ]
     },
     "metadata": {
      "needs_background": "light"
     },
     "output_type": "display_data"
    }
   ],
   "source": [
    "ax = sns.pointplot(\n",
    "    data=df,\n",
    "    x='data_ref',\n",
    "    y='renda',\n",
    "    hue='posse_de_imovel',\n",
    "    dodge=True,\n",
    "    ci=95\n",
    ")\n",
    "\n",
    "plt.legend(loc='lower center', bbox_to_anchor=(0.5, -.30), ncol=3)\n",
    "\n",
    "tick_labs = df['data_ref'].map(lambda ts: ts.strftime(\"%m-%Y\")).unique()\n",
    "\n",
    "ticks = ax.set_xticks(list(range(df['data_ref'].nunique())))\n",
    "labels = ax.set_xticklabels(tick_labs, rotation=90)\n",
    "\n",
    "plt.legend(loc='lower center', bbox_to_anchor=(0.5, -.50), ncol=3)"
   ]
  },
  {
   "cell_type": "code",
   "execution_count": null,
   "metadata": {},
   "outputs": [],
   "source": []
  }
 ],
 "metadata": {
  "kernelspec": {
   "display_name": "Python 3 (ipykernel)",
   "language": "python",
   "name": "python3"
  },
  "language_info": {
   "codemirror_mode": {
    "name": "ipython",
    "version": 3
   },
   "file_extension": ".py",
   "mimetype": "text/x-python",
   "name": "python",
   "nbconvert_exporter": "python",
   "pygments_lexer": "ipython3",
   "version": "3.9.12"
  }
 },
 "nbformat": 4,
 "nbformat_minor": 4
}
