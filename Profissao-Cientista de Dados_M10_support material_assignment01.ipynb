{
 "cells": [
  {
   "cell_type": "markdown",
   "metadata": {},
   "source": [
    "# Módulo 10 atividade 1"
   ]
  },
  {
   "cell_type": "markdown",
   "metadata": {},
   "source": [
    "Uma instituição financeira quer conhecer melhor o perfil de renda de seus novos clientes para diversos fins, por exemplo, melhor dimensionar o limite de cartões de crédito dos novos clientes, sem necessariamente solicitar olerites ou documentações que impactem na experiência do seu cliente.\n",
    "\n",
    "Para isto, conduziu um estudo com alguns clientes, comprovando suas rendas através de olerites e outros documentos, e pretende construir um modelo preditivo para esta renda com base em algumas variáveis que já possui em seu banco de dados.\n",
    "\n",
    "As variáveis são intuitivas - note que há uma variável 'index' que é um identificador do cliente e que em geral o ```read_csv``` do pandas coloca também uma variável sequencial.\n",
    "\n",
    "Estes dados estão no arquivo ```previsao_de_renda.csv```. Carregue-o em um *dataframe*.\n",
    "\n",
    "1) Avalie a estrutura de correlação das variáveis quantitativas através de um gráfico de \"matriz de dispersão\" e através da avaliação gráfica da matriz de correlações. Veja se você identifica algum padrão interessante ou que te faça sentido."
   ]
  },
  {
   "cell_type": "code",
   "execution_count": 1,
   "metadata": {},
   "outputs": [],
   "source": [
    "import pandas as pd\n",
    "import numpy as np\n",
    "import seaborn as sns\n",
    "import matplotlib.pyplot as plt\n",
    "import sklearn\n",
    "\n",
    "%matplotlib inline"
   ]
  },
  {
   "cell_type": "code",
   "execution_count": 2,
   "metadata": {},
   "outputs": [
    {
     "data": {
      "text/html": [
       "<div>\n",
       "<style scoped>\n",
       "    .dataframe tbody tr th:only-of-type {\n",
       "        vertical-align: middle;\n",
       "    }\n",
       "\n",
       "    .dataframe tbody tr th {\n",
       "        vertical-align: top;\n",
       "    }\n",
       "\n",
       "    .dataframe thead th {\n",
       "        text-align: right;\n",
       "    }\n",
       "</style>\n",
       "<table border=\"1\" class=\"dataframe\">\n",
       "  <thead>\n",
       "    <tr style=\"text-align: right;\">\n",
       "      <th></th>\n",
       "      <th>data_ref</th>\n",
       "      <th>sexo</th>\n",
       "      <th>posse_de_veiculo</th>\n",
       "      <th>posse_de_imovel</th>\n",
       "      <th>qtd_filhos</th>\n",
       "      <th>tipo_renda</th>\n",
       "      <th>educacao</th>\n",
       "      <th>estado_civil</th>\n",
       "      <th>tipo_residencia</th>\n",
       "      <th>idade</th>\n",
       "      <th>tempo_emprego</th>\n",
       "      <th>qt_pessoas_residencia</th>\n",
       "      <th>mau</th>\n",
       "      <th>renda</th>\n",
       "    </tr>\n",
       "  </thead>\n",
       "  <tbody>\n",
       "    <tr>\n",
       "      <th>0</th>\n",
       "      <td>2015-01-01</td>\n",
       "      <td>F</td>\n",
       "      <td>False</td>\n",
       "      <td>True</td>\n",
       "      <td>1</td>\n",
       "      <td>Assalariado</td>\n",
       "      <td>Secundário</td>\n",
       "      <td>Casado</td>\n",
       "      <td>Casa</td>\n",
       "      <td>36</td>\n",
       "      <td>3.575342</td>\n",
       "      <td>3.0</td>\n",
       "      <td>False</td>\n",
       "      <td>3369.24</td>\n",
       "    </tr>\n",
       "    <tr>\n",
       "      <th>1</th>\n",
       "      <td>2015-01-01</td>\n",
       "      <td>M</td>\n",
       "      <td>True</td>\n",
       "      <td>True</td>\n",
       "      <td>0</td>\n",
       "      <td>Empresário</td>\n",
       "      <td>Secundário</td>\n",
       "      <td>Casado</td>\n",
       "      <td>Casa</td>\n",
       "      <td>42</td>\n",
       "      <td>0.860274</td>\n",
       "      <td>2.0</td>\n",
       "      <td>False</td>\n",
       "      <td>6096.14</td>\n",
       "    </tr>\n",
       "    <tr>\n",
       "      <th>2</th>\n",
       "      <td>2015-01-01</td>\n",
       "      <td>M</td>\n",
       "      <td>True</td>\n",
       "      <td>True</td>\n",
       "      <td>2</td>\n",
       "      <td>Assalariado</td>\n",
       "      <td>Superior completo</td>\n",
       "      <td>Casado</td>\n",
       "      <td>Casa</td>\n",
       "      <td>31</td>\n",
       "      <td>8.065753</td>\n",
       "      <td>4.0</td>\n",
       "      <td>False</td>\n",
       "      <td>5658.98</td>\n",
       "    </tr>\n",
       "    <tr>\n",
       "      <th>3</th>\n",
       "      <td>2015-01-01</td>\n",
       "      <td>F</td>\n",
       "      <td>True</td>\n",
       "      <td>False</td>\n",
       "      <td>0</td>\n",
       "      <td>Empresário</td>\n",
       "      <td>Secundário</td>\n",
       "      <td>Casado</td>\n",
       "      <td>Casa</td>\n",
       "      <td>50</td>\n",
       "      <td>1.208219</td>\n",
       "      <td>2.0</td>\n",
       "      <td>False</td>\n",
       "      <td>7246.69</td>\n",
       "    </tr>\n",
       "    <tr>\n",
       "      <th>4</th>\n",
       "      <td>2015-01-01</td>\n",
       "      <td>M</td>\n",
       "      <td>False</td>\n",
       "      <td>False</td>\n",
       "      <td>0</td>\n",
       "      <td>Assalariado</td>\n",
       "      <td>Secundário</td>\n",
       "      <td>Casado</td>\n",
       "      <td>Casa</td>\n",
       "      <td>52</td>\n",
       "      <td>13.873973</td>\n",
       "      <td>2.0</td>\n",
       "      <td>False</td>\n",
       "      <td>4017.37</td>\n",
       "    </tr>\n",
       "  </tbody>\n",
       "</table>\n",
       "</div>"
      ],
      "text/plain": [
       "     data_ref sexo  posse_de_veiculo  posse_de_imovel  qtd_filhos  \\\n",
       "0  2015-01-01    F             False             True           1   \n",
       "1  2015-01-01    M              True             True           0   \n",
       "2  2015-01-01    M              True             True           2   \n",
       "3  2015-01-01    F              True            False           0   \n",
       "4  2015-01-01    M             False            False           0   \n",
       "\n",
       "    tipo_renda           educacao estado_civil tipo_residencia  idade  \\\n",
       "0  Assalariado         Secundário       Casado            Casa     36   \n",
       "1   Empresário         Secundário       Casado            Casa     42   \n",
       "2  Assalariado  Superior completo       Casado            Casa     31   \n",
       "3   Empresário         Secundário       Casado            Casa     50   \n",
       "4  Assalariado         Secundário       Casado            Casa     52   \n",
       "\n",
       "   tempo_emprego  qt_pessoas_residencia    mau    renda  \n",
       "0       3.575342                    3.0  False  3369.24  \n",
       "1       0.860274                    2.0  False  6096.14  \n",
       "2       8.065753                    4.0  False  5658.98  \n",
       "3       1.208219                    2.0  False  7246.69  \n",
       "4      13.873973                    2.0  False  4017.37  "
      ]
     },
     "execution_count": 2,
     "metadata": {},
     "output_type": "execute_result"
    }
   ],
   "source": [
    "df = pd.read_csv('previsao_da_renda.csv')\n",
    "df = df.drop(['Unnamed: 0', 'index'], axis=1)\n",
    "df.head()"
   ]
  },
  {
   "cell_type": "code",
   "execution_count": 25,
   "metadata": {},
   "outputs": [
    {
     "data": {
      "text/plain": [
       "Unnamed: 0                 int64\n",
       "index                      int64\n",
       "qtd_filhos                 int64\n",
       "idade                      int64\n",
       "tempo_emprego            float64\n",
       "qt_pessoas_residencia    float64\n",
       "renda                    float64\n",
       "dtype: object"
      ]
     },
     "execution_count": 25,
     "metadata": {},
     "output_type": "execute_result"
    }
   ],
   "source": [
    "df = df.select_dtypes(exclude=['object', 'bool'])\n",
    "df.dtypes"
   ]
  },
  {
   "cell_type": "code",
   "execution_count": 26,
   "metadata": {},
   "outputs": [
    {
     "data": {
      "text/html": [
       "<div>\n",
       "<style scoped>\n",
       "    .dataframe tbody tr th:only-of-type {\n",
       "        vertical-align: middle;\n",
       "    }\n",
       "\n",
       "    .dataframe tbody tr th {\n",
       "        vertical-align: top;\n",
       "    }\n",
       "\n",
       "    .dataframe thead th {\n",
       "        text-align: right;\n",
       "    }\n",
       "</style>\n",
       "<table border=\"1\" class=\"dataframe\">\n",
       "  <thead>\n",
       "    <tr style=\"text-align: right;\">\n",
       "      <th></th>\n",
       "      <th>Unnamed: 0</th>\n",
       "      <th>index</th>\n",
       "      <th>qtd_filhos</th>\n",
       "      <th>idade</th>\n",
       "      <th>tempo_emprego</th>\n",
       "      <th>qt_pessoas_residencia</th>\n",
       "      <th>renda</th>\n",
       "    </tr>\n",
       "  </thead>\n",
       "  <tbody>\n",
       "    <tr>\n",
       "      <th>Unnamed: 0</th>\n",
       "      <td>1.000000</td>\n",
       "      <td>-0.001868</td>\n",
       "      <td>0.015612</td>\n",
       "      <td>-0.004328</td>\n",
       "      <td>-0.002146</td>\n",
       "      <td>0.016628</td>\n",
       "      <td>0.007646</td>\n",
       "    </tr>\n",
       "    <tr>\n",
       "      <th>index</th>\n",
       "      <td>-0.001868</td>\n",
       "      <td>1.000000</td>\n",
       "      <td>0.039734</td>\n",
       "      <td>-0.047971</td>\n",
       "      <td>-0.034574</td>\n",
       "      <td>0.041818</td>\n",
       "      <td>-0.001740</td>\n",
       "    </tr>\n",
       "    <tr>\n",
       "      <th>qtd_filhos</th>\n",
       "      <td>0.015612</td>\n",
       "      <td>0.039734</td>\n",
       "      <td>1.000000</td>\n",
       "      <td>-0.364303</td>\n",
       "      <td>-0.074250</td>\n",
       "      <td>0.896488</td>\n",
       "      <td>0.009567</td>\n",
       "    </tr>\n",
       "    <tr>\n",
       "      <th>idade</th>\n",
       "      <td>-0.004328</td>\n",
       "      <td>-0.047971</td>\n",
       "      <td>-0.364303</td>\n",
       "      <td>1.000000</td>\n",
       "      <td>0.323934</td>\n",
       "      <td>-0.338805</td>\n",
       "      <td>0.042570</td>\n",
       "    </tr>\n",
       "    <tr>\n",
       "      <th>tempo_emprego</th>\n",
       "      <td>-0.002146</td>\n",
       "      <td>-0.034574</td>\n",
       "      <td>-0.074250</td>\n",
       "      <td>0.323934</td>\n",
       "      <td>1.000000</td>\n",
       "      <td>-0.065748</td>\n",
       "      <td>0.394235</td>\n",
       "    </tr>\n",
       "    <tr>\n",
       "      <th>qt_pessoas_residencia</th>\n",
       "      <td>0.016628</td>\n",
       "      <td>0.041818</td>\n",
       "      <td>0.896488</td>\n",
       "      <td>-0.338805</td>\n",
       "      <td>-0.065748</td>\n",
       "      <td>1.000000</td>\n",
       "      <td>0.020977</td>\n",
       "    </tr>\n",
       "    <tr>\n",
       "      <th>renda</th>\n",
       "      <td>0.007646</td>\n",
       "      <td>-0.001740</td>\n",
       "      <td>0.009567</td>\n",
       "      <td>0.042570</td>\n",
       "      <td>0.394235</td>\n",
       "      <td>0.020977</td>\n",
       "      <td>1.000000</td>\n",
       "    </tr>\n",
       "  </tbody>\n",
       "</table>\n",
       "</div>"
      ],
      "text/plain": [
       "                       Unnamed: 0     index  qtd_filhos     idade  \\\n",
       "Unnamed: 0               1.000000 -0.001868    0.015612 -0.004328   \n",
       "index                   -0.001868  1.000000    0.039734 -0.047971   \n",
       "qtd_filhos               0.015612  0.039734    1.000000 -0.364303   \n",
       "idade                   -0.004328 -0.047971   -0.364303  1.000000   \n",
       "tempo_emprego           -0.002146 -0.034574   -0.074250  0.323934   \n",
       "qt_pessoas_residencia    0.016628  0.041818    0.896488 -0.338805   \n",
       "renda                    0.007646 -0.001740    0.009567  0.042570   \n",
       "\n",
       "                       tempo_emprego  qt_pessoas_residencia     renda  \n",
       "Unnamed: 0                 -0.002146               0.016628  0.007646  \n",
       "index                      -0.034574               0.041818 -0.001740  \n",
       "qtd_filhos                 -0.074250               0.896488  0.009567  \n",
       "idade                       0.323934              -0.338805  0.042570  \n",
       "tempo_emprego               1.000000              -0.065748  0.394235  \n",
       "qt_pessoas_residencia      -0.065748               1.000000  0.020977  \n",
       "renda                       0.394235               0.020977  1.000000  "
      ]
     },
     "execution_count": 26,
     "metadata": {},
     "output_type": "execute_result"
    }
   ],
   "source": [
    "df.corr()"
   ]
  },
  {
   "cell_type": "code",
   "execution_count": 27,
   "metadata": {},
   "outputs": [
    {
     "data": {
      "text/plain": [
       "<seaborn.matrix.ClusterGrid at 0x258c6f3ec10>"
      ]
     },
     "execution_count": 27,
     "metadata": {},
     "output_type": "execute_result"
    },
    {
     "data": {
      "image/png": "[encoded data removed]",
      "text/plain": [
       "<Figure size 720x720 with 4 Axes>"
      ]
     },
     "metadata": {
      "needs_background": "light"
     },
     "output_type": "display_data"
    }
   ],
   "source": [
    "cmap = sns.diverging_palette(220, 20, as_cmap=True)\n",
    "\n",
    "sns.clustermap(df.corr(), figsize=(10, 10), center = 0, cmap=cmap)"
   ]
  },
  {
   "cell_type": "markdown",
   "metadata": {},
   "source": [
    "2) Avalie um gráfico de dispersão (*scatterplot*) específico para as duas variáveis mais correlacionadas com *renda*."
   ]
  },
  {
   "cell_type": "code",
   "execution_count": 7,
   "metadata": {},
   "outputs": [
    {
     "data": {
      "text/html": [
       "<div>\n",
       "<style scoped>\n",
       "    .dataframe tbody tr th:only-of-type {\n",
       "        vertical-align: middle;\n",
       "    }\n",
       "\n",
       "    .dataframe tbody tr th {\n",
       "        vertical-align: top;\n",
       "    }\n",
       "\n",
       "    .dataframe thead th {\n",
       "        text-align: right;\n",
       "    }\n",
       "</style>\n",
       "<table border=\"1\" class=\"dataframe\">\n",
       "  <thead>\n",
       "    <tr style=\"text-align: right;\">\n",
       "      <th></th>\n",
       "      <th>x</th>\n",
       "      <th>y</th>\n",
       "    </tr>\n",
       "  </thead>\n",
       "  <tbody>\n",
       "    <tr>\n",
       "      <th>x</th>\n",
       "      <td>1.000000</td>\n",
       "      <td>0.394235</td>\n",
       "    </tr>\n",
       "    <tr>\n",
       "      <th>y</th>\n",
       "      <td>0.394235</td>\n",
       "      <td>1.000000</td>\n",
       "    </tr>\n",
       "  </tbody>\n",
       "</table>\n",
       "</div>"
      ],
      "text/plain": [
       "          x         y\n",
       "x  1.000000  0.394235\n",
       "y  0.394235  1.000000"
      ]
     },
     "execution_count": 7,
     "metadata": {},
     "output_type": "execute_result"
    },
    {
     "data": {
      "image/png": "[encoded data removed]",
      "text/plain": [
       "<Figure size 432x288 with 1 Axes>"
      ]
     },
     "metadata": {
      "needs_background": "light"
     },
     "output_type": "display_data"
    }
   ],
   "source": [
    "x = df['tempo_emprego']\n",
    "y = df['renda']\n",
    "\n",
    "df = pd.DataFrame({'x':x, 'y':y})\n",
    "_ = sns.regplot(x='x', y='y', data =df )\n",
    "df.corr()"
   ]
  },
  {
   "cell_type": "code",
   "execution_count": 3,
   "metadata": {},
   "outputs": [
    {
     "data": {
      "text/html": [
       "<div>\n",
       "<style scoped>\n",
       "    .dataframe tbody tr th:only-of-type {\n",
       "        vertical-align: middle;\n",
       "    }\n",
       "\n",
       "    .dataframe tbody tr th {\n",
       "        vertical-align: top;\n",
       "    }\n",
       "\n",
       "    .dataframe thead th {\n",
       "        text-align: right;\n",
       "    }\n",
       "</style>\n",
       "<table border=\"1\" class=\"dataframe\">\n",
       "  <thead>\n",
       "    <tr style=\"text-align: right;\">\n",
       "      <th></th>\n",
       "      <th>x</th>\n",
       "      <th>y</th>\n",
       "    </tr>\n",
       "  </thead>\n",
       "  <tbody>\n",
       "    <tr>\n",
       "      <th>x</th>\n",
       "      <td>1.00000</td>\n",
       "      <td>0.04257</td>\n",
       "    </tr>\n",
       "    <tr>\n",
       "      <th>y</th>\n",
       "      <td>0.04257</td>\n",
       "      <td>1.00000</td>\n",
       "    </tr>\n",
       "  </tbody>\n",
       "</table>\n",
       "</div>"
      ],
      "text/plain": [
       "         x        y\n",
       "x  1.00000  0.04257\n",
       "y  0.04257  1.00000"
      ]
     },
     "execution_count": 3,
     "metadata": {},
     "output_type": "execute_result"
    },
    {
     "data": {
      "image/png": "[encoded data removed]",
      "text/plain": [
       "<Figure size 432x288 with 1 Axes>"
      ]
     },
     "metadata": {
      "needs_background": "light"
     },
     "output_type": "display_data"
    }
   ],
   "source": [
    "x = df['idade']\n",
    "y = df['renda']\n",
    "\n",
    "df = pd.DataFrame({'x':x, 'y':y})\n",
    "_ = sns.regplot(x='x', y='y', data =df )\n",
    "df.corr()"
   ]
  },
  {
   "cell_type": "markdown",
   "metadata": {},
   "source": [
    "3) Na su aopinião, há outliers na variável renda?"
   ]
  },
  {
   "cell_type": "markdown",
   "metadata": {},
   "source": [
    "Sim, a variável renda apresenta Outliers. Desse modo podemos notar nos gráficos anteriores que os dois apresentaram dados discrepanetes."
   ]
  },
  {
   "cell_type": "markdown",
   "metadata": {},
   "source": [
    "4) Calcule o logaritmo da variável renda e repita a sequência de análise"
   ]
  },
  {
   "cell_type": "code",
   "execution_count": 4,
   "metadata": {},
   "outputs": [
    {
     "data": {
      "text/html": [
       "<div>\n",
       "<style scoped>\n",
       "    .dataframe tbody tr th:only-of-type {\n",
       "        vertical-align: middle;\n",
       "    }\n",
       "\n",
       "    .dataframe tbody tr th {\n",
       "        vertical-align: top;\n",
       "    }\n",
       "\n",
       "    .dataframe thead th {\n",
       "        text-align: right;\n",
       "    }\n",
       "</style>\n",
       "<table border=\"1\" class=\"dataframe\">\n",
       "  <thead>\n",
       "    <tr style=\"text-align: right;\">\n",
       "      <th></th>\n",
       "      <th>posse_de_veiculo</th>\n",
       "      <th>posse_de_imovel</th>\n",
       "      <th>qtd_filhos</th>\n",
       "      <th>idade</th>\n",
       "      <th>tempo_emprego</th>\n",
       "      <th>qt_pessoas_residencia</th>\n",
       "      <th>mau</th>\n",
       "      <th>renda</th>\n",
       "      <th>log_y</th>\n",
       "    </tr>\n",
       "  </thead>\n",
       "  <tbody>\n",
       "    <tr>\n",
       "      <th>posse_de_veiculo</th>\n",
       "      <td>1.000000</td>\n",
       "      <td>-0.014727</td>\n",
       "      <td>0.107959</td>\n",
       "      <td>-0.157837</td>\n",
       "      <td>-0.087514</td>\n",
       "      <td>0.156009</td>\n",
       "      <td>-0.017617</td>\n",
       "      <td>0.063414</td>\n",
       "      <td>0.090529</td>\n",
       "    </tr>\n",
       "    <tr>\n",
       "      <th>posse_de_imovel</th>\n",
       "      <td>-0.014727</td>\n",
       "      <td>1.000000</td>\n",
       "      <td>-0.002525</td>\n",
       "      <td>0.122667</td>\n",
       "      <td>0.000112</td>\n",
       "      <td>-0.007180</td>\n",
       "      <td>-0.022499</td>\n",
       "      <td>0.029827</td>\n",
       "      <td>0.045297</td>\n",
       "    </tr>\n",
       "    <tr>\n",
       "      <th>qtd_filhos</th>\n",
       "      <td>0.107959</td>\n",
       "      <td>-0.002525</td>\n",
       "      <td>1.000000</td>\n",
       "      <td>-0.364303</td>\n",
       "      <td>-0.074250</td>\n",
       "      <td>0.896488</td>\n",
       "      <td>0.009544</td>\n",
       "      <td>0.009567</td>\n",
       "      <td>0.023743</td>\n",
       "    </tr>\n",
       "    <tr>\n",
       "      <th>idade</th>\n",
       "      <td>-0.157837</td>\n",
       "      <td>0.122667</td>\n",
       "      <td>-0.364303</td>\n",
       "      <td>1.000000</td>\n",
       "      <td>0.323934</td>\n",
       "      <td>-0.338805</td>\n",
       "      <td>-0.011087</td>\n",
       "      <td>0.042570</td>\n",
       "      <td>0.024712</td>\n",
       "    </tr>\n",
       "    <tr>\n",
       "      <th>tempo_emprego</th>\n",
       "      <td>-0.087514</td>\n",
       "      <td>0.000112</td>\n",
       "      <td>-0.074250</td>\n",
       "      <td>0.323934</td>\n",
       "      <td>1.000000</td>\n",
       "      <td>-0.065748</td>\n",
       "      <td>-0.047722</td>\n",
       "      <td>0.394235</td>\n",
       "      <td>0.379556</td>\n",
       "    </tr>\n",
       "    <tr>\n",
       "      <th>qt_pessoas_residencia</th>\n",
       "      <td>0.156009</td>\n",
       "      <td>-0.007180</td>\n",
       "      <td>0.896488</td>\n",
       "      <td>-0.338805</td>\n",
       "      <td>-0.065748</td>\n",
       "      <td>1.000000</td>\n",
       "      <td>-0.001555</td>\n",
       "      <td>0.020977</td>\n",
       "      <td>0.036267</td>\n",
       "    </tr>\n",
       "    <tr>\n",
       "      <th>mau</th>\n",
       "      <td>-0.017617</td>\n",
       "      <td>-0.022499</td>\n",
       "      <td>0.009544</td>\n",
       "      <td>-0.011087</td>\n",
       "      <td>-0.047722</td>\n",
       "      <td>-0.001555</td>\n",
       "      <td>1.000000</td>\n",
       "      <td>-0.011577</td>\n",
       "      <td>-0.014193</td>\n",
       "    </tr>\n",
       "    <tr>\n",
       "      <th>renda</th>\n",
       "      <td>0.063414</td>\n",
       "      <td>0.029827</td>\n",
       "      <td>0.009567</td>\n",
       "      <td>0.042570</td>\n",
       "      <td>0.394235</td>\n",
       "      <td>0.020977</td>\n",
       "      <td>-0.011577</td>\n",
       "      <td>1.000000</td>\n",
       "      <td>0.835734</td>\n",
       "    </tr>\n",
       "    <tr>\n",
       "      <th>log_y</th>\n",
       "      <td>0.090529</td>\n",
       "      <td>0.045297</td>\n",
       "      <td>0.023743</td>\n",
       "      <td>0.024712</td>\n",
       "      <td>0.379556</td>\n",
       "      <td>0.036267</td>\n",
       "      <td>-0.014193</td>\n",
       "      <td>0.835734</td>\n",
       "      <td>1.000000</td>\n",
       "    </tr>\n",
       "  </tbody>\n",
       "</table>\n",
       "</div>"
      ],
      "text/plain": [
       "                       posse_de_veiculo  posse_de_imovel  qtd_filhos  \\\n",
       "posse_de_veiculo               1.000000        -0.014727    0.107959   \n",
       "posse_de_imovel               -0.014727         1.000000   -0.002525   \n",
       "qtd_filhos                     0.107959        -0.002525    1.000000   \n",
       "idade                         -0.157837         0.122667   -0.364303   \n",
       "tempo_emprego                 -0.087514         0.000112   -0.074250   \n",
       "qt_pessoas_residencia          0.156009        -0.007180    0.896488   \n",
       "mau                           -0.017617        -0.022499    0.009544   \n",
       "renda                          0.063414         0.029827    0.009567   \n",
       "log_y                          0.090529         0.045297    0.023743   \n",
       "\n",
       "                          idade  tempo_emprego  qt_pessoas_residencia  \\\n",
       "posse_de_veiculo      -0.157837      -0.087514               0.156009   \n",
       "posse_de_imovel        0.122667       0.000112              -0.007180   \n",
       "qtd_filhos            -0.364303      -0.074250               0.896488   \n",
       "idade                  1.000000       0.323934              -0.338805   \n",
       "tempo_emprego          0.323934       1.000000              -0.065748   \n",
       "qt_pessoas_residencia -0.338805      -0.065748               1.000000   \n",
       "mau                   -0.011087      -0.047722              -0.001555   \n",
       "renda                  0.042570       0.394235               0.020977   \n",
       "log_y                  0.024712       0.379556               0.036267   \n",
       "\n",
       "                            mau     renda     log_y  \n",
       "posse_de_veiculo      -0.017617  0.063414  0.090529  \n",
       "posse_de_imovel       -0.022499  0.029827  0.045297  \n",
       "qtd_filhos             0.009544  0.009567  0.023743  \n",
       "idade                 -0.011087  0.042570  0.024712  \n",
       "tempo_emprego         -0.047722  0.394235  0.379556  \n",
       "qt_pessoas_residencia -0.001555  0.020977  0.036267  \n",
       "mau                    1.000000 -0.011577 -0.014193  \n",
       "renda                 -0.011577  1.000000  0.835734  \n",
       "log_y                 -0.014193  0.835734  1.000000  "
      ]
     },
     "execution_count": 4,
     "metadata": {},
     "output_type": "execute_result"
    }
   ],
   "source": [
    "df_log = df.copy()\n",
    "df_log['log_y'] = np.log(df_log['renda'])\n",
    "df_log.corr()"
   ]
  },
  {
   "cell_type": "code",
   "execution_count": 5,
   "metadata": {},
   "outputs": [
    {
     "data": {
      "text/html": [
       "<div>\n",
       "<style scoped>\n",
       "    .dataframe tbody tr th:only-of-type {\n",
       "        vertical-align: middle;\n",
       "    }\n",
       "\n",
       "    .dataframe tbody tr th {\n",
       "        vertical-align: top;\n",
       "    }\n",
       "\n",
       "    .dataframe thead th {\n",
       "        text-align: right;\n",
       "    }\n",
       "</style>\n",
       "<table border=\"1\" class=\"dataframe\">\n",
       "  <thead>\n",
       "    <tr style=\"text-align: right;\">\n",
       "      <th></th>\n",
       "      <th>x</th>\n",
       "      <th>log_y</th>\n",
       "    </tr>\n",
       "  </thead>\n",
       "  <tbody>\n",
       "    <tr>\n",
       "      <th>x</th>\n",
       "      <td>1.000000</td>\n",
       "      <td>0.024712</td>\n",
       "    </tr>\n",
       "    <tr>\n",
       "      <th>log_y</th>\n",
       "      <td>0.024712</td>\n",
       "      <td>1.000000</td>\n",
       "    </tr>\n",
       "  </tbody>\n",
       "</table>\n",
       "</div>"
      ],
      "text/plain": [
       "              x     log_y\n",
       "x      1.000000  0.024712\n",
       "log_y  0.024712  1.000000"
      ]
     },
     "execution_count": 5,
     "metadata": {},
     "output_type": "execute_result"
    },
    {
     "data": {
      "image/png": "[encoded data removed]",
      "text/plain": [
       "<Figure size 432x288 with 1 Axes>"
      ]
     },
     "metadata": {
      "needs_background": "light"
     },
     "output_type": "display_data"
    }
   ],
   "source": [
    "x = df_log['idade']\n",
    "y = df_log['log_y']\n",
    "\n",
    "df_log = pd.DataFrame({'x':x, 'log_y':y})\n",
    "_ = sns.regplot(x='x', y='log_y', data =df_log )\n",
    "df_log.corr()"
   ]
  },
  {
   "cell_type": "code",
   "execution_count": 5,
   "metadata": {},
   "outputs": [
    {
     "data": {
      "text/html": [
       "<div>\n",
       "<style scoped>\n",
       "    .dataframe tbody tr th:only-of-type {\n",
       "        vertical-align: middle;\n",
       "    }\n",
       "\n",
       "    .dataframe tbody tr th {\n",
       "        vertical-align: top;\n",
       "    }\n",
       "\n",
       "    .dataframe thead th {\n",
       "        text-align: right;\n",
       "    }\n",
       "</style>\n",
       "<table border=\"1\" class=\"dataframe\">\n",
       "  <thead>\n",
       "    <tr style=\"text-align: right;\">\n",
       "      <th></th>\n",
       "      <th>tempo_emprego</th>\n",
       "      <th>log_y</th>\n",
       "    </tr>\n",
       "  </thead>\n",
       "  <tbody>\n",
       "    <tr>\n",
       "      <th>tempo_emprego</th>\n",
       "      <td>1.000000</td>\n",
       "      <td>0.379556</td>\n",
       "    </tr>\n",
       "    <tr>\n",
       "      <th>log_y</th>\n",
       "      <td>0.379556</td>\n",
       "      <td>1.000000</td>\n",
       "    </tr>\n",
       "  </tbody>\n",
       "</table>\n",
       "</div>"
      ],
      "text/plain": [
       "               tempo_emprego     log_y\n",
       "tempo_emprego       1.000000  0.379556\n",
       "log_y               0.379556  1.000000"
      ]
     },
     "execution_count": 5,
     "metadata": {},
     "output_type": "execute_result"
    },
    {
     "data": {
      "image/png": "[encoded data removed]",
      "text/plain": [
       "<Figure size 432x288 with 1 Axes>"
      ]
     },
     "metadata": {
      "needs_background": "light"
     },
     "output_type": "display_data"
    }
   ],
   "source": [
    "x = df_log['tempo_emprego']\n",
    "y = df_log['log_y']\n",
    "\n",
    "df_log = pd.DataFrame({'tempo_emprego': x, 'log_y': y})\n",
    "_ = sns.regplot(x='tempo_emprego', y='log_y', data=df_log)\n",
    "df_log.corr()"
   ]
  },
  {
   "cell_type": "markdown",
   "metadata": {},
   "source": [
    "5) A aplicação do LOG você acha que melhorou ou piorou a análise?"
   ]
  },
  {
   "cell_type": "markdown",
   "metadata": {},
   "source": [
    "Sim, uso do LOG é uma das opções para arrumar os outliers, como também temos inúmeras possibilidade de arrumar este impasse. Desse modo, a escolher para organizar a base de dados vai do pesquisador que trabalha nela."
   ]
  }
 ],
 "metadata": {
  "kernelspec": {
   "display_name": "Python 3 (ipykernel)",
   "language": "python",
   "name": "python3"
  },
  "language_info": {
   "codemirror_mode": {
    "name": "ipython",
    "version": 3
   },
   "file_extension": ".py",
   "mimetype": "text/x-python",
   "name": "python",
   "nbconvert_exporter": "python",
   "pygments_lexer": "ipython3",
   "version": "3.9.12"
  }
 },
 "nbformat": 4,
 "nbformat_minor": 4
}
